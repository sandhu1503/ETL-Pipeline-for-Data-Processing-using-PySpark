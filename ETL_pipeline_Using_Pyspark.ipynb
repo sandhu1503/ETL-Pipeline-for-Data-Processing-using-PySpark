{
  "nbformat": 4,
  "nbformat_minor": 0,
  "metadata": {
    "colab": {
      "provenance": []
    },
    "kernelspec": {
      "name": "python3",
      "display_name": "Python 3"
    },
    "language_info": {
      "name": "python"
    }
  },
  "cells": [
    {
      "cell_type": "code",
      "execution_count": 1,
      "metadata": {
        "colab": {
          "base_uri": "https://localhost:8080/"
        },
        "id": "BMoGxhTpvwF_",
        "outputId": "a06564f0-1772-41f7-9c6e-573fc1063166"
      },
      "outputs": [
        {
          "output_type": "stream",
          "name": "stdout",
          "text": [
            "Requirement already satisfied: pyspark in /usr/local/lib/python3.11/dist-packages (3.5.4)\n",
            "Requirement already satisfied: py4j==0.10.9.7 in /usr/local/lib/python3.11/dist-packages (from pyspark) (0.10.9.7)\n"
          ]
        }
      ],
      "source": [
        "!pip install pyspark"
      ]
    },
    {
      "cell_type": "code",
      "source": [
        "from pyspark.sql import SparkSession\n",
        "spark = SparkSession.builder.appName(\"ETL Pipeline Project\").enableHiveSupport().getOrCreate()\n"
      ],
      "metadata": {
        "id": "fbxkdEFUwywT"
      },
      "execution_count": 3,
      "outputs": []
    },
    {
      "cell_type": "code",
      "source": [
        "loan_df=spark.read.csv(\"/content/Loan_Default.csv\",header=True,inferSchema=True)"
      ],
      "metadata": {
        "id": "r5ujnOb6xGZ0"
      },
      "execution_count": 5,
      "outputs": []
    },
    {
      "cell_type": "code",
      "source": [
        "loan_df.show()"
      ],
      "metadata": {
        "colab": {
          "base_uri": "https://localhost:8080/"
        },
        "id": "SyOhgl-W0ASb",
        "outputId": "5bd528c5-8db4-4672-dbd9-2a5cfb885e7b"
      },
      "execution_count": 6,
      "outputs": [
        {
          "output_type": "stream",
          "name": "stdout",
          "text": [
            "+-----+----+----------+-----------------+-------------+---------+------------+-----------------+-----------+----------------------+-----------+----------------+--------------------+---------------+----+-----------------+-------------+----------------+--------------+-----------------+--------------+----------+-----------+------+-----------+------------+------------------------+-----+-------------------------+-----------+-------+-------------+------+-----+\n",
            "|   ID|year|loan_limit|           Gender|approv_in_adv|loan_type|loan_purpose|Credit_Worthiness|open_credit|business_or_commercial|loan_amount|rate_of_interest|Interest_rate_spread|Upfront_charges|term|Neg_ammortization|interest_only|lump_sum_payment|property_value|construction_type|occupancy_type|Secured_by|total_units|income|credit_type|Credit_Score|co-applicant_credit_type|  age|submission_of_application|        LTV| Region|Security_Type|Status|dtir1|\n",
            "+-----+----+----------+-----------------+-------------+---------+------------+-----------------+-----------+----------------------+-----------+----------------+--------------------+---------------+----+-----------------+-------------+----------------+--------------+-----------------+--------------+----------+-----------+------+-----------+------------+------------------------+-----+-------------------------+-----------+-------+-------------+------+-----+\n",
            "|24890|2019|        cf|Sex Not Available|        nopre|    type1|          p1|               l1|       nopc|                 nob/c|     116500|            NULL|                NULL|           NULL| 360|          not_neg|      not_int|        not_lpsm|        118000|               sb|            pr|      home|         1U|  1740|        EXP|         758|                     CIB|25-34|                  to_inst|98.72881356|  south|       direct|     1|   45|\n",
            "|24891|2019|        cf|             Male|        nopre|    type2|          p1|               l1|       nopc|                   b/c|     206500|            NULL|                NULL|           NULL| 360|          not_neg|      not_int|            lpsm|          NULL|               sb|            pr|      home|         1U|  4980|       EQUI|         552|                     EXP|55-64|                  to_inst|       NULL|  North|       direct|     1| NULL|\n",
            "|24892|2019|        cf|             Male|          pre|    type1|          p1|               l1|       nopc|                 nob/c|     406500|            4.56|                 0.2|          595.0| 360|          neg_amm|      not_int|        not_lpsm|        508000|               sb|            pr|      home|         1U|  9480|        EXP|         834|                     CIB|35-44|                  to_inst|80.01968504|  south|       direct|     0|   46|\n",
            "|24893|2019|        cf|             Male|        nopre|    type1|          p4|               l1|       nopc|                 nob/c|     456500|            4.25|               0.681|           NULL| 360|          not_neg|      not_int|        not_lpsm|        658000|               sb|            pr|      home|         1U| 11880|        EXP|         587|                     CIB|45-54|                 not_inst| 69.3768997|  North|       direct|     0|   42|\n",
            "|24894|2019|        cf|            Joint|          pre|    type1|          p1|               l1|       nopc|                 nob/c|     696500|             4.0|              0.3042|            0.0| 360|          not_neg|      not_int|        not_lpsm|        758000|               sb|            pr|      home|         1U| 10440|       CRIF|         602|                     EXP|25-34|                 not_inst|91.88654354|  North|       direct|     0|   39|\n",
            "|24895|2019|        cf|            Joint|          pre|    type1|          p1|               l1|       nopc|                 nob/c|     706500|            3.99|              0.1523|          370.0| 360|          not_neg|      not_int|        not_lpsm|       1008000|               sb|            pr|      home|         1U| 10080|        EXP|         864|                     EXP|35-44|                 not_inst|70.08928571|  North|       direct|     0|   40|\n",
            "|24896|2019|        cf|            Joint|          pre|    type1|          p3|               l1|       nopc|                 nob/c|     346500|             4.5|              0.9998|         5120.0| 360|          not_neg|      not_int|        not_lpsm|        438000|               sb|            pr|      home|         1U|  5040|        EXP|         860|                     EXP|55-64|                  to_inst|79.10958904|  North|       direct|     0|   44|\n",
            "|24897|2019|      NULL|           Female|        nopre|    type1|          p4|               l1|       nopc|                 nob/c|     266500|           4.125|              0.2975|        5609.88| 360|          not_neg|      not_int|        not_lpsm|        308000|               sb|            pr|      home|         1U|  3780|        CIB|         863|                     CIB|55-64|                  to_inst|86.52597403|  North|       direct|     0|   42|\n",
            "|24898|2019|        cf|            Joint|        nopre|    type1|          p3|               l1|       nopc|                 nob/c|     376500|           4.875|              0.7395|         1150.0| 360|          not_neg|      not_int|        not_lpsm|        478000|               sb|            pr|      home|         1U|  5580|        CIB|         580|                     EXP|55-64|                  to_inst|78.76569038|central|       direct|     0|   44|\n",
            "|24899|2019|        cf|Sex Not Available|        nopre|    type3|          p3|               l1|       nopc|                 nob/c|     436500|            3.49|             -0.2776|         2316.5| 360|          not_neg|      not_int|        not_lpsm|        688000|               sb|            pr|      home|         1U|  6720|        CIB|         788|                     EXP|55-64|                  to_inst|63.44476744|  south|       direct|     0|   30|\n",
            "|24900|2019|        cf|             Male|        nopre|    type2|          p3|               l2|       nopc|                   b/c|     136500|            NULL|                NULL|           NULL| 300|          neg_amm|      not_int|        not_lpsm|        168000|               sb|            pr|      home|         1U|  4020|        EXP|         723|                     CIB|55-64|                  to_inst|      81.25|  North|       direct|     1|   44|\n",
            "|24901|2019|        cf|Sex Not Available|        nopre|    type1|          p3|               l1|       nopc|                 nob/c|     466500|           4.375|              0.1871|         1150.0| 360|          not_neg|      not_int|        not_lpsm|        708000|               sb|            pr|      home|         1U|  9540|        EXP|         501|                     EXP|35-44|                  to_inst|65.88983051|  south|       direct|     0|   36|\n",
            "|24902|2019|        cf|            Joint|        nopre|    type2|          p3|               l1|       nopc|                   b/c|     206500|            NULL|                NULL|           NULL| 360|          not_neg|      not_int|        not_lpsm|        258000|               sb|            pr|      home|         1U|  3780|       CRIF|         884|                     EXP|65-74|                  to_inst|80.03875969|  North|       direct|     1|   51|\n",
            "|24903|2019|        cf|            Joint|        nopre|    type2|          p4|               l1|       nopc|                   b/c|     436500|           3.625|              0.6146|            0.0| 360|          not_neg|      not_int|        not_lpsm|        508000|               sb|            pr|      home|         1U|  NULL|       CRIF|         520|                     EXP|55-64|                  to_inst|85.92519685|  North|       direct|     0| NULL|\n",
            "|24904|2019|        cf|           Female|        nopre|    type1|          p4|               l1|       nopc|                 nob/c|     226500|             4.5|              0.4657|        3953.13| 360|          not_neg|      not_int|        not_lpsm|        298000|               sb|            pr|      home|         1U|  7860|        CIB|         773|                     CIB|35-44|                  to_inst|76.00671141|  North|       direct|     0|   39|\n",
            "|24905|2019|        cf|             Male|        nopre|    type1|          p4|               l1|       nopc|                 nob/c|      76500|            NULL|                NULL|           NULL| 360|          not_neg|      not_int|        not_lpsm|        138000|               sb|            pr|      home|         1U|  2220|        EXP|         685|                     CIB|45-54|                 not_inst|55.43478261|  North|       direct|     1|   20|\n",
            "|24906|2019|        cf|            Joint|        nopre|    type2|          p1|               l1|       nopc|                   b/c|     356500|            NULL|                NULL|           NULL| 360|          neg_amm|      not_int|        not_lpsm|        368000|               sb|            pr|      home|         1U|  5340|       CRIF|         846|                     EXP|25-34|                 not_inst|     96.875|  North|       direct|     1|   44|\n",
            "|24907|2019|        cf|             Male|          pre|    type1|          p3|               l1|       nopc|                 nob/c|     156500|            NULL|                NULL|           NULL| 360|          neg_amm|      not_int|        not_lpsm|        168000|               sb|            pr|      home|         1U|  3120|       CRIF|         534|                     CIB|65-74|                  to_inst| 93.1547619|  North|       direct|     1|   44|\n",
            "|24908|2019|        cf|           Female|        nopre|    type1|          p1|               l1|       nopc|                 nob/c|     406500|            4.56|               0.458|          895.0| 360|          not_neg|      not_int|        not_lpsm|        598000|               sb|            pr|      home|         1U|  5340|        CIB|         629|                     CIB|45-54|                 not_inst|67.97658863|  North|       direct|     0|   44|\n",
            "|24909|2019|        cf|Sex Not Available|        nopre|    type1|          p4|               l1|       nopc|                 nob/c|     586500|           3.175|             -0.3446|          650.0| 360|          not_neg|      not_int|        not_lpsm|        748000|               sb|            sr|      home|         1U| 12540|        CIB|         688|                     EXP|55-64|                  to_inst|78.40909091|  south|       direct|     0|   31|\n",
            "+-----+----+----------+-----------------+-------------+---------+------------+-----------------+-----------+----------------------+-----------+----------------+--------------------+---------------+----+-----------------+-------------+----------------+--------------+-----------------+--------------+----------+-----------+------+-----------+------------+------------------------+-----+-------------------------+-----------+-------+-------------+------+-----+\n",
            "only showing top 20 rows\n",
            "\n"
          ]
        }
      ]
    },
    {
      "cell_type": "code",
      "source": [
        "loan_df.printSchema()"
      ],
      "metadata": {
        "colab": {
          "base_uri": "https://localhost:8080/"
        },
        "id": "N3x2Tlc82JA8",
        "outputId": "8c68cd1c-93d1-4bac-b454-cdd7d8b8b700"
      },
      "execution_count": 9,
      "outputs": [
        {
          "output_type": "stream",
          "name": "stdout",
          "text": [
            "root\n",
            " |-- ID: integer (nullable = true)\n",
            " |-- year: integer (nullable = true)\n",
            " |-- loan_limit: string (nullable = true)\n",
            " |-- Gender: string (nullable = true)\n",
            " |-- approv_in_adv: string (nullable = true)\n",
            " |-- loan_type: string (nullable = true)\n",
            " |-- loan_purpose: string (nullable = true)\n",
            " |-- Credit_Worthiness: string (nullable = true)\n",
            " |-- open_credit: string (nullable = true)\n",
            " |-- business_or_commercial: string (nullable = true)\n",
            " |-- loan_amount: integer (nullable = true)\n",
            " |-- rate_of_interest: double (nullable = true)\n",
            " |-- Interest_rate_spread: double (nullable = true)\n",
            " |-- Upfront_charges: double (nullable = true)\n",
            " |-- term: integer (nullable = true)\n",
            " |-- Neg_ammortization: string (nullable = true)\n",
            " |-- interest_only: string (nullable = true)\n",
            " |-- lump_sum_payment: string (nullable = true)\n",
            " |-- property_value: integer (nullable = true)\n",
            " |-- construction_type: string (nullable = true)\n",
            " |-- occupancy_type: string (nullable = true)\n",
            " |-- Secured_by: string (nullable = true)\n",
            " |-- total_units: string (nullable = true)\n",
            " |-- income: integer (nullable = true)\n",
            " |-- credit_type: string (nullable = true)\n",
            " |-- Credit_Score: integer (nullable = true)\n",
            " |-- co-applicant_credit_type: string (nullable = true)\n",
            " |-- age: string (nullable = true)\n",
            " |-- submission_of_application: string (nullable = true)\n",
            " |-- LTV: double (nullable = true)\n",
            " |-- Region: string (nullable = true)\n",
            " |-- Security_Type: string (nullable = true)\n",
            " |-- Status: integer (nullable = true)\n",
            " |-- dtir1: integer (nullable = true)\n",
            "\n"
          ]
        }
      ]
    },
    {
      "cell_type": "code",
      "source": [
        "from pyspark.sql.functions import col, sum\n",
        "# Checking null values column-wise\n",
        "loan_df.select([sum(col(c).isNull().cast(\"int\")).alias(c) for c in loan_df.columns]).show()"
      ],
      "metadata": {
        "colab": {
          "base_uri": "https://localhost:8080/"
        },
        "id": "ZhM9Ltw30lsp",
        "outputId": "14299ba4-44cc-40b7-c6a8-21f5dee5d02b"
      },
      "execution_count": 8,
      "outputs": [
        {
          "output_type": "stream",
          "name": "stdout",
          "text": [
            "+---+----+----------+------+-------------+---------+------------+-----------------+-----------+----------------------+-----------+----------------+--------------------+---------------+----+-----------------+-------------+----------------+--------------+-----------------+--------------+----------+-----------+------+-----------+------------+------------------------+---+-------------------------+-----+------+-------------+------+-----+\n",
            "| ID|year|loan_limit|Gender|approv_in_adv|loan_type|loan_purpose|Credit_Worthiness|open_credit|business_or_commercial|loan_amount|rate_of_interest|Interest_rate_spread|Upfront_charges|term|Neg_ammortization|interest_only|lump_sum_payment|property_value|construction_type|occupancy_type|Secured_by|total_units|income|credit_type|Credit_Score|co-applicant_credit_type|age|submission_of_application|  LTV|Region|Security_Type|Status|dtir1|\n",
            "+---+----+----------+------+-------------+---------+------------+-----------------+-----------+----------------------+-----------+----------------+--------------------+---------------+----+-----------------+-------------+----------------+--------------+-----------------+--------------+----------+-----------+------+-----------+------------+------------------------+---+-------------------------+-----+------+-------------+------+-----+\n",
            "|  0|   0|      3344|     0|          908|        0|         134|                0|          0|                     0|          0|           36439|               36639|          39642|  41|              121|            0|               0|         15098|                0|             0|         0|          0|  9150|          0|           0|                       0|200|                        0|15098|     0|            0|     0|24121|\n",
            "+---+----+----------+------+-------------+---------+------------+-----------------+-----------+----------------------+-----------+----------------+--------------------+---------------+----+-----------------+-------------+----------------+--------------+-----------------+--------------+----------+-----------+------+-----------+------------+------------------------+---+-------------------------+-----+------+-------------+------+-----+\n",
            "\n"
          ]
        }
      ]
    },
    {
      "cell_type": "code",
      "source": [
        "no_years = loan_df.select(\"year\").distinct()\n",
        "no_years.show()"
      ],
      "metadata": {
        "colab": {
          "base_uri": "https://localhost:8080/"
        },
        "id": "d5hQtD4c00kk",
        "outputId": "7a03674f-f590-47d2-8854-3436783693aa"
      },
      "execution_count": 15,
      "outputs": [
        {
          "output_type": "stream",
          "name": "stdout",
          "text": [
            "+----+\n",
            "|year|\n",
            "+----+\n",
            "|2019|\n",
            "+----+\n",
            "\n"
          ]
        }
      ]
    },
    {
      "cell_type": "code",
      "source": [
        "from pyspark.sql import functions as F"
      ],
      "metadata": {
        "id": "JY-jNsp32Hug"
      },
      "execution_count": 16,
      "outputs": []
    },
    {
      "cell_type": "code",
      "source": [
        "region_highest_loan = loan_df.groupBy(\"region\").agg(F.max(\"loan_amount\").alias(\"max_loan_amount\")).orderBy(F.desc(\"max_loan_amount\"))\n",
        "region_highest_loan.show()"
      ],
      "metadata": {
        "colab": {
          "base_uri": "https://localhost:8080/"
        },
        "id": "wKJxLt3PHcN_",
        "outputId": "3fb4baec-09f2-4bc3-97b7-e8df3de22e86"
      },
      "execution_count": 18,
      "outputs": [
        {
          "output_type": "stream",
          "name": "stdout",
          "text": [
            "+----------+---------------+\n",
            "|    region|max_loan_amount|\n",
            "+----------+---------------+\n",
            "|     North|        3576500|\n",
            "|     south|        3346500|\n",
            "|   central|        1916500|\n",
            "|North-East|        1276500|\n",
            "+----------+---------------+\n",
            "\n"
          ]
        }
      ]
    },
    {
      "cell_type": "code",
      "source": [
        "numeric_cols = ['loan_amount', 'rate_of_interest', 'income']\n",
        "\n",
        "# Calculate mean for all numeric columns\n",
        "mean_dict = {col: loan_df.select(F.mean(col)).collect()[0][0] for col in numeric_cols}\n",
        "\n",
        "# Fill null values in multiple columns\n",
        "loan_df = loan_df.fillna(mean_dict)\n",
        "\n",
        "loan_df.show()\n"
      ],
      "metadata": {
        "colab": {
          "base_uri": "https://localhost:8080/"
        },
        "id": "b_1Cue88H3pa",
        "outputId": "b83d635e-d47a-49aa-c014-d8d2569de406"
      },
      "execution_count": 19,
      "outputs": [
        {
          "output_type": "stream",
          "name": "stdout",
          "text": [
            "+-----+----+----------+-----------------+-------------+---------+------------+-----------------+-----------+----------------------+-----------+-----------------+--------------------+---------------+----+-----------------+-------------+----------------+--------------+-----------------+--------------+----------+-----------+------+-----------+------------+------------------------+-----+-------------------------+-----------+-------+-------------+------+-----+\n",
            "|   ID|year|loan_limit|           Gender|approv_in_adv|loan_type|loan_purpose|Credit_Worthiness|open_credit|business_or_commercial|loan_amount| rate_of_interest|Interest_rate_spread|Upfront_charges|term|Neg_ammortization|interest_only|lump_sum_payment|property_value|construction_type|occupancy_type|Secured_by|total_units|income|credit_type|Credit_Score|co-applicant_credit_type|  age|submission_of_application|        LTV| Region|Security_Type|Status|dtir1|\n",
            "+-----+----+----------+-----------------+-------------+---------+------------+-----------------+-----------+----------------------+-----------+-----------------+--------------------+---------------+----+-----------------+-------------+----------------+--------------+-----------------+--------------+----------+-----------+------+-----------+------------+------------------------+-----+-------------------------+-----------+-------+-------------+------+-----+\n",
            "|24890|2019|        cf|Sex Not Available|        nopre|    type1|          p1|               l1|       nopc|                 nob/c|     116500|4.045475804367209|                NULL|           NULL| 360|          not_neg|      not_int|        not_lpsm|        118000|               sb|            pr|      home|         1U|  1740|        EXP|         758|                     CIB|25-34|                  to_inst|98.72881356|  south|       direct|     1|   45|\n",
            "|24891|2019|        cf|             Male|        nopre|    type2|          p1|               l1|       nopc|                   b/c|     206500|4.045475804367209|                NULL|           NULL| 360|          not_neg|      not_int|            lpsm|          NULL|               sb|            pr|      home|         1U|  4980|       EQUI|         552|                     EXP|55-64|                  to_inst|       NULL|  North|       direct|     1| NULL|\n",
            "|24892|2019|        cf|             Male|          pre|    type1|          p1|               l1|       nopc|                 nob/c|     406500|             4.56|                 0.2|          595.0| 360|          neg_amm|      not_int|        not_lpsm|        508000|               sb|            pr|      home|         1U|  9480|        EXP|         834|                     CIB|35-44|                  to_inst|80.01968504|  south|       direct|     0|   46|\n",
            "|24893|2019|        cf|             Male|        nopre|    type1|          p4|               l1|       nopc|                 nob/c|     456500|             4.25|               0.681|           NULL| 360|          not_neg|      not_int|        not_lpsm|        658000|               sb|            pr|      home|         1U| 11880|        EXP|         587|                     CIB|45-54|                 not_inst| 69.3768997|  North|       direct|     0|   42|\n",
            "|24894|2019|        cf|            Joint|          pre|    type1|          p1|               l1|       nopc|                 nob/c|     696500|              4.0|              0.3042|            0.0| 360|          not_neg|      not_int|        not_lpsm|        758000|               sb|            pr|      home|         1U| 10440|       CRIF|         602|                     EXP|25-34|                 not_inst|91.88654354|  North|       direct|     0|   39|\n",
            "|24895|2019|        cf|            Joint|          pre|    type1|          p1|               l1|       nopc|                 nob/c|     706500|             3.99|              0.1523|          370.0| 360|          not_neg|      not_int|        not_lpsm|       1008000|               sb|            pr|      home|         1U| 10080|        EXP|         864|                     EXP|35-44|                 not_inst|70.08928571|  North|       direct|     0|   40|\n",
            "|24896|2019|        cf|            Joint|          pre|    type1|          p3|               l1|       nopc|                 nob/c|     346500|              4.5|              0.9998|         5120.0| 360|          not_neg|      not_int|        not_lpsm|        438000|               sb|            pr|      home|         1U|  5040|        EXP|         860|                     EXP|55-64|                  to_inst|79.10958904|  North|       direct|     0|   44|\n",
            "|24897|2019|      NULL|           Female|        nopre|    type1|          p4|               l1|       nopc|                 nob/c|     266500|            4.125|              0.2975|        5609.88| 360|          not_neg|      not_int|        not_lpsm|        308000|               sb|            pr|      home|         1U|  3780|        CIB|         863|                     CIB|55-64|                  to_inst|86.52597403|  North|       direct|     0|   42|\n",
            "|24898|2019|        cf|            Joint|        nopre|    type1|          p3|               l1|       nopc|                 nob/c|     376500|            4.875|              0.7395|         1150.0| 360|          not_neg|      not_int|        not_lpsm|        478000|               sb|            pr|      home|         1U|  5580|        CIB|         580|                     EXP|55-64|                  to_inst|78.76569038|central|       direct|     0|   44|\n",
            "|24899|2019|        cf|Sex Not Available|        nopre|    type3|          p3|               l1|       nopc|                 nob/c|     436500|             3.49|             -0.2776|         2316.5| 360|          not_neg|      not_int|        not_lpsm|        688000|               sb|            pr|      home|         1U|  6720|        CIB|         788|                     EXP|55-64|                  to_inst|63.44476744|  south|       direct|     0|   30|\n",
            "|24900|2019|        cf|             Male|        nopre|    type2|          p3|               l2|       nopc|                   b/c|     136500|4.045475804367209|                NULL|           NULL| 300|          neg_amm|      not_int|        not_lpsm|        168000|               sb|            pr|      home|         1U|  4020|        EXP|         723|                     CIB|55-64|                  to_inst|      81.25|  North|       direct|     1|   44|\n",
            "|24901|2019|        cf|Sex Not Available|        nopre|    type1|          p3|               l1|       nopc|                 nob/c|     466500|            4.375|              0.1871|         1150.0| 360|          not_neg|      not_int|        not_lpsm|        708000|               sb|            pr|      home|         1U|  9540|        EXP|         501|                     EXP|35-44|                  to_inst|65.88983051|  south|       direct|     0|   36|\n",
            "|24902|2019|        cf|            Joint|        nopre|    type2|          p3|               l1|       nopc|                   b/c|     206500|4.045475804367209|                NULL|           NULL| 360|          not_neg|      not_int|        not_lpsm|        258000|               sb|            pr|      home|         1U|  3780|       CRIF|         884|                     EXP|65-74|                  to_inst|80.03875969|  North|       direct|     1|   51|\n",
            "|24903|2019|        cf|            Joint|        nopre|    type2|          p4|               l1|       nopc|                   b/c|     436500|            3.625|              0.6146|            0.0| 360|          not_neg|      not_int|        not_lpsm|        508000|               sb|            pr|      home|         1U|  6957|       CRIF|         520|                     EXP|55-64|                  to_inst|85.92519685|  North|       direct|     0| NULL|\n",
            "|24904|2019|        cf|           Female|        nopre|    type1|          p4|               l1|       nopc|                 nob/c|     226500|              4.5|              0.4657|        3953.13| 360|          not_neg|      not_int|        not_lpsm|        298000|               sb|            pr|      home|         1U|  7860|        CIB|         773|                     CIB|35-44|                  to_inst|76.00671141|  North|       direct|     0|   39|\n",
            "|24905|2019|        cf|             Male|        nopre|    type1|          p4|               l1|       nopc|                 nob/c|      76500|4.045475804367209|                NULL|           NULL| 360|          not_neg|      not_int|        not_lpsm|        138000|               sb|            pr|      home|         1U|  2220|        EXP|         685|                     CIB|45-54|                 not_inst|55.43478261|  North|       direct|     1|   20|\n",
            "|24906|2019|        cf|            Joint|        nopre|    type2|          p1|               l1|       nopc|                   b/c|     356500|4.045475804367209|                NULL|           NULL| 360|          neg_amm|      not_int|        not_lpsm|        368000|               sb|            pr|      home|         1U|  5340|       CRIF|         846|                     EXP|25-34|                 not_inst|     96.875|  North|       direct|     1|   44|\n",
            "|24907|2019|        cf|             Male|          pre|    type1|          p3|               l1|       nopc|                 nob/c|     156500|4.045475804367209|                NULL|           NULL| 360|          neg_amm|      not_int|        not_lpsm|        168000|               sb|            pr|      home|         1U|  3120|       CRIF|         534|                     CIB|65-74|                  to_inst| 93.1547619|  North|       direct|     1|   44|\n",
            "|24908|2019|        cf|           Female|        nopre|    type1|          p1|               l1|       nopc|                 nob/c|     406500|             4.56|               0.458|          895.0| 360|          not_neg|      not_int|        not_lpsm|        598000|               sb|            pr|      home|         1U|  5340|        CIB|         629|                     CIB|45-54|                 not_inst|67.97658863|  North|       direct|     0|   44|\n",
            "|24909|2019|        cf|Sex Not Available|        nopre|    type1|          p4|               l1|       nopc|                 nob/c|     586500|            3.175|             -0.3446|          650.0| 360|          not_neg|      not_int|        not_lpsm|        748000|               sb|            sr|      home|         1U| 12540|        CIB|         688|                     EXP|55-64|                  to_inst|78.40909091|  south|       direct|     0|   31|\n",
            "+-----+----+----------+-----------------+-------------+---------+------------+-----------------+-----------+----------------------+-----------+-----------------+--------------------+---------------+----+-----------------+-------------+----------------+--------------+-----------------+--------------+----------+-----------+------+-----------+------------+------------------------+-----+-------------------------+-----------+-------+-------------+------+-----+\n",
            "only showing top 20 rows\n",
            "\n"
          ]
        }
      ]
    },
    {
      "cell_type": "code",
      "source": [
        "# Show null count after imputation\n",
        "loan_df.select([F.sum(col(c).isNull().cast(\"int\")).alias(c) for c in numeric_cols]).show()\n"
      ],
      "metadata": {
        "colab": {
          "base_uri": "https://localhost:8080/"
        },
        "id": "dyBEfoL5Lkjs",
        "outputId": "321eb76a-17ff-46db-a74c-e2d000319bd1"
      },
      "execution_count": 20,
      "outputs": [
        {
          "output_type": "stream",
          "name": "stdout",
          "text": [
            "+-----------+----------------+------+\n",
            "|loan_amount|rate_of_interest|income|\n",
            "+-----------+----------------+------+\n",
            "|          0|               0|     0|\n",
            "+-----------+----------------+------+\n",
            "\n"
          ]
        }
      ]
    },
    {
      "cell_type": "code",
      "source": [
        "from pyspark.sql.functions import udf\n",
        "from pyspark.sql.types import DoubleType\n",
        "\n",
        "# Define UDF Function\n",
        "def loan_income_ratio(loan_amount, income):\n",
        "    if income == 0 or income is None:\n",
        "        return 0\n",
        "    return loan_amount / income\n",
        "\n",
        "# Register UDF with DoubleType\n",
        "udf_loan_income_ratio = udf(loan_income_ratio, DoubleType())\n",
        "\n",
        "# Apply UDF using withColumn\n",
        "loan_df = loan_df.withColumn('loan_income_ratio', udf_loan_income_ratio(loan_df[\"loan_amount\"], loan_df[\"income\"]))\n",
        "\n",
        "# Show Result\n",
        "loan_df.select(\"loan_amount\", \"income\", \"loan_income_ratio\").show(5)\n"
      ],
      "metadata": {
        "colab": {
          "base_uri": "https://localhost:8080/"
        },
        "id": "3eBEbv1aMiqP",
        "outputId": "75ef91b9-28bb-4804-e17b-06ed0fcaf684"
      },
      "execution_count": 22,
      "outputs": [
        {
          "output_type": "stream",
          "name": "stdout",
          "text": [
            "+-----------+------+------------------+\n",
            "|loan_amount|income| loan_income_ratio|\n",
            "+-----------+------+------------------+\n",
            "|     116500|  1740| 66.95402298850574|\n",
            "|     206500|  4980| 41.46586345381526|\n",
            "|     406500|  9480|42.879746835443036|\n",
            "|     456500| 11880|38.425925925925924|\n",
            "|     696500| 10440| 66.71455938697318|\n",
            "+-----------+------+------------------+\n",
            "only showing top 5 rows\n",
            "\n"
          ]
        }
      ]
    },
    {
      "cell_type": "code",
      "source": [
        "loan_df.explain()"
      ],
      "metadata": {
        "colab": {
          "base_uri": "https://localhost:8080/"
        },
        "id": "JydOjmM4OagF",
        "outputId": "f108fc85-ef48-40fd-f213-6c2b43176522"
      },
      "execution_count": 23,
      "outputs": [
        {
          "output_type": "stream",
          "name": "stdout",
          "text": [
            "== Physical Plan ==\n",
            "*(2) Project [ID#17, year#18, loan_limit#19, Gender#20, approv_in_adv#21, loan_type#22, loan_purpose#23, Credit_Worthiness#24, open_credit#25, business_or_commercial#26, loan_amount#867, rate_of_interest#868, Interest_rate_spread#29, Upfront_charges#30, term#31, Neg_ammortization#32, interest_only#33, lump_sum_payment#34, property_value#35, construction_type#36, occupancy_type#37, Secured_by#38, total_units#39, income#869, ... 11 more fields]\n",
            "+- BatchEvalPython [loan_income_ratio(loan_amount#867, income#869)#1109], [pythonUDF0#1165]\n",
            "   +- *(1) Project [ID#17, year#18, loan_limit#19, Gender#20, approv_in_adv#21, loan_type#22, loan_purpose#23, Credit_Worthiness#24, open_credit#25, business_or_commercial#26, coalesce(loan_amount#27, 331117) AS loan_amount#867, coalesce(nanvl(rate_of_interest#28, null), 4.045475804367209) AS rate_of_interest#868, Interest_rate_spread#29, Upfront_charges#30, term#31, Neg_ammortization#32, interest_only#33, lump_sum_payment#34, property_value#35, construction_type#36, occupancy_type#37, Secured_by#38, total_units#39, coalesce(income#40, 6957) AS income#869, ... 10 more fields]\n",
            "      +- FileScan csv [ID#17,year#18,loan_limit#19,Gender#20,approv_in_adv#21,loan_type#22,loan_purpose#23,Credit_Worthiness#24,open_credit#25,business_or_commercial#26,loan_amount#27,rate_of_interest#28,Interest_rate_spread#29,Upfront_charges#30,term#31,Neg_ammortization#32,interest_only#33,lump_sum_payment#34,property_value#35,construction_type#36,occupancy_type#37,Secured_by#38,total_units#39,income#40,... 10 more fields] Batched: false, DataFilters: [], Format: CSV, Location: InMemoryFileIndex(1 paths)[file:/content/Loan_Default.csv], PartitionFilters: [], PushedFilters: [], ReadSchema: struct<ID:int,year:int,loan_limit:string,Gender:string,approv_in_adv:string,loan_type:string,loan...\n",
            "\n",
            "\n"
          ]
        }
      ]
    },
    {
      "cell_type": "code",
      "source": [
        "loan_df.write.parquet('/content/loan_data.parquet')"
      ],
      "metadata": {
        "id": "4A7O6wBVQpH5"
      },
      "execution_count": 24,
      "outputs": []
    },
    {
      "cell_type": "code",
      "source": [
        "df = spark.read.parquet('/content/loan_data.parquet')\n",
        "df.show()"
      ],
      "metadata": {
        "colab": {
          "base_uri": "https://localhost:8080/"
        },
        "id": "ViNILmOYSrN6",
        "outputId": "4d81152f-4cef-4b14-a304-a8bc99b89ce9"
      },
      "execution_count": 25,
      "outputs": [
        {
          "output_type": "stream",
          "name": "stdout",
          "text": [
            "+-----+----+----------+-----------------+-------------+---------+------------+-----------------+-----------+----------------------+-----------+-----------------+--------------------+---------------+----+-----------------+-------------+----------------+--------------+-----------------+--------------+----------+-----------+------+-----------+------------+------------------------+-----+-------------------------+-----------+-------+-------------+------+-----+------------------+\n",
            "|   ID|year|loan_limit|           Gender|approv_in_adv|loan_type|loan_purpose|Credit_Worthiness|open_credit|business_or_commercial|loan_amount| rate_of_interest|Interest_rate_spread|Upfront_charges|term|Neg_ammortization|interest_only|lump_sum_payment|property_value|construction_type|occupancy_type|Secured_by|total_units|income|credit_type|Credit_Score|co-applicant_credit_type|  age|submission_of_application|        LTV| Region|Security_Type|Status|dtir1| loan_income_ratio|\n",
            "+-----+----+----------+-----------------+-------------+---------+------------+-----------------+-----------+----------------------+-----------+-----------------+--------------------+---------------+----+-----------------+-------------+----------------+--------------+-----------------+--------------+----------+-----------+------+-----------+------------+------------------------+-----+-------------------------+-----------+-------+-------------+------+-----+------------------+\n",
            "|24890|2019|        cf|Sex Not Available|        nopre|    type1|          p1|               l1|       nopc|                 nob/c|     116500|4.045475804367209|                NULL|           NULL| 360|          not_neg|      not_int|        not_lpsm|        118000|               sb|            pr|      home|         1U|  1740|        EXP|         758|                     CIB|25-34|                  to_inst|98.72881356|  south|       direct|     1|   45| 66.95402298850574|\n",
            "|24891|2019|        cf|             Male|        nopre|    type2|          p1|               l1|       nopc|                   b/c|     206500|4.045475804367209|                NULL|           NULL| 360|          not_neg|      not_int|            lpsm|          NULL|               sb|            pr|      home|         1U|  4980|       EQUI|         552|                     EXP|55-64|                  to_inst|       NULL|  North|       direct|     1| NULL| 41.46586345381526|\n",
            "|24892|2019|        cf|             Male|          pre|    type1|          p1|               l1|       nopc|                 nob/c|     406500|             4.56|                 0.2|          595.0| 360|          neg_amm|      not_int|        not_lpsm|        508000|               sb|            pr|      home|         1U|  9480|        EXP|         834|                     CIB|35-44|                  to_inst|80.01968504|  south|       direct|     0|   46|42.879746835443036|\n",
            "|24893|2019|        cf|             Male|        nopre|    type1|          p4|               l1|       nopc|                 nob/c|     456500|             4.25|               0.681|           NULL| 360|          not_neg|      not_int|        not_lpsm|        658000|               sb|            pr|      home|         1U| 11880|        EXP|         587|                     CIB|45-54|                 not_inst| 69.3768997|  North|       direct|     0|   42|38.425925925925924|\n",
            "|24894|2019|        cf|            Joint|          pre|    type1|          p1|               l1|       nopc|                 nob/c|     696500|              4.0|              0.3042|            0.0| 360|          not_neg|      not_int|        not_lpsm|        758000|               sb|            pr|      home|         1U| 10440|       CRIF|         602|                     EXP|25-34|                 not_inst|91.88654354|  North|       direct|     0|   39| 66.71455938697318|\n",
            "|24895|2019|        cf|            Joint|          pre|    type1|          p1|               l1|       nopc|                 nob/c|     706500|             3.99|              0.1523|          370.0| 360|          not_neg|      not_int|        not_lpsm|       1008000|               sb|            pr|      home|         1U| 10080|        EXP|         864|                     EXP|35-44|                 not_inst|70.08928571|  North|       direct|     0|   40| 70.08928571428571|\n",
            "|24896|2019|        cf|            Joint|          pre|    type1|          p3|               l1|       nopc|                 nob/c|     346500|              4.5|              0.9998|         5120.0| 360|          not_neg|      not_int|        not_lpsm|        438000|               sb|            pr|      home|         1U|  5040|        EXP|         860|                     EXP|55-64|                  to_inst|79.10958904|  North|       direct|     0|   44|             68.75|\n",
            "|24897|2019|      NULL|           Female|        nopre|    type1|          p4|               l1|       nopc|                 nob/c|     266500|            4.125|              0.2975|        5609.88| 360|          not_neg|      not_int|        not_lpsm|        308000|               sb|            pr|      home|         1U|  3780|        CIB|         863|                     CIB|55-64|                  to_inst|86.52597403|  North|       direct|     0|   42|  70.5026455026455|\n",
            "|24898|2019|        cf|            Joint|        nopre|    type1|          p3|               l1|       nopc|                 nob/c|     376500|            4.875|              0.7395|         1150.0| 360|          not_neg|      not_int|        not_lpsm|        478000|               sb|            pr|      home|         1U|  5580|        CIB|         580|                     EXP|55-64|                  to_inst|78.76569038|central|       direct|     0|   44| 67.47311827956989|\n",
            "|24899|2019|        cf|Sex Not Available|        nopre|    type3|          p3|               l1|       nopc|                 nob/c|     436500|             3.49|             -0.2776|         2316.5| 360|          not_neg|      not_int|        not_lpsm|        688000|               sb|            pr|      home|         1U|  6720|        CIB|         788|                     EXP|55-64|                  to_inst|63.44476744|  south|       direct|     0|   30| 64.95535714285714|\n",
            "|24900|2019|        cf|             Male|        nopre|    type2|          p3|               l2|       nopc|                   b/c|     136500|4.045475804367209|                NULL|           NULL| 300|          neg_amm|      not_int|        not_lpsm|        168000|               sb|            pr|      home|         1U|  4020|        EXP|         723|                     CIB|55-64|                  to_inst|      81.25|  North|       direct|     1|   44| 33.95522388059702|\n",
            "|24901|2019|        cf|Sex Not Available|        nopre|    type1|          p3|               l1|       nopc|                 nob/c|     466500|            4.375|              0.1871|         1150.0| 360|          not_neg|      not_int|        not_lpsm|        708000|               sb|            pr|      home|         1U|  9540|        EXP|         501|                     EXP|35-44|                  to_inst|65.88983051|  south|       direct|     0|   36|48.899371069182386|\n",
            "|24902|2019|        cf|            Joint|        nopre|    type2|          p3|               l1|       nopc|                   b/c|     206500|4.045475804367209|                NULL|           NULL| 360|          not_neg|      not_int|        not_lpsm|        258000|               sb|            pr|      home|         1U|  3780|       CRIF|         884|                     EXP|65-74|                  to_inst|80.03875969|  North|       direct|     1|   51|54.629629629629626|\n",
            "|24903|2019|        cf|            Joint|        nopre|    type2|          p4|               l1|       nopc|                   b/c|     436500|            3.625|              0.6146|            0.0| 360|          not_neg|      not_int|        not_lpsm|        508000|               sb|            pr|      home|         1U|  6957|       CRIF|         520|                     EXP|55-64|                  to_inst|85.92519685|  North|       direct|     0| NULL| 62.74256144890039|\n",
            "|24904|2019|        cf|           Female|        nopre|    type1|          p4|               l1|       nopc|                 nob/c|     226500|              4.5|              0.4657|        3953.13| 360|          not_neg|      not_int|        not_lpsm|        298000|               sb|            pr|      home|         1U|  7860|        CIB|         773|                     CIB|35-44|                  to_inst|76.00671141|  North|       direct|     0|   39| 28.81679389312977|\n",
            "|24905|2019|        cf|             Male|        nopre|    type1|          p4|               l1|       nopc|                 nob/c|      76500|4.045475804367209|                NULL|           NULL| 360|          not_neg|      not_int|        not_lpsm|        138000|               sb|            pr|      home|         1U|  2220|        EXP|         685|                     CIB|45-54|                 not_inst|55.43478261|  North|       direct|     1|   20| 34.45945945945946|\n",
            "|24906|2019|        cf|            Joint|        nopre|    type2|          p1|               l1|       nopc|                   b/c|     356500|4.045475804367209|                NULL|           NULL| 360|          neg_amm|      not_int|        not_lpsm|        368000|               sb|            pr|      home|         1U|  5340|       CRIF|         846|                     EXP|25-34|                 not_inst|     96.875|  North|       direct|     1|   44| 66.76029962546816|\n",
            "|24907|2019|        cf|             Male|          pre|    type1|          p3|               l1|       nopc|                 nob/c|     156500|4.045475804367209|                NULL|           NULL| 360|          neg_amm|      not_int|        not_lpsm|        168000|               sb|            pr|      home|         1U|  3120|       CRIF|         534|                     CIB|65-74|                  to_inst| 93.1547619|  North|       direct|     1|   44| 50.16025641025641|\n",
            "|24908|2019|        cf|           Female|        nopre|    type1|          p1|               l1|       nopc|                 nob/c|     406500|             4.56|               0.458|          895.0| 360|          not_neg|      not_int|        not_lpsm|        598000|               sb|            pr|      home|         1U|  5340|        CIB|         629|                     CIB|45-54|                 not_inst|67.97658863|  North|       direct|     0|   44| 76.12359550561797|\n",
            "|24909|2019|        cf|Sex Not Available|        nopre|    type1|          p4|               l1|       nopc|                 nob/c|     586500|            3.175|             -0.3446|          650.0| 360|          not_neg|      not_int|        not_lpsm|        748000|               sb|            sr|      home|         1U| 12540|        CIB|         688|                     EXP|55-64|                  to_inst|78.40909091|  south|       direct|     0|   31|46.770334928229666|\n",
            "+-----+----+----------+-----------------+-------------+---------+------------+-----------------+-----------+----------------------+-----------+-----------------+--------------------+---------------+----+-----------------+-------------+----------------+--------------+-----------------+--------------+----------+-----------+------+-----------+------------+------------------------+-----+-------------------------+-----------+-------+-------------+------+-----+------------------+\n",
            "only showing top 20 rows\n",
            "\n"
          ]
        }
      ]
    },
    {
      "cell_type": "code",
      "source": [],
      "metadata": {
        "id": "12bVutAfS24f"
      },
      "execution_count": null,
      "outputs": []
    }
  ]
}